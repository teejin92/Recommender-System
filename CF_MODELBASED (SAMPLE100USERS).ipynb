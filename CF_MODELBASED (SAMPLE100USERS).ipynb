{
 "cells": [
  {
   "cell_type": "code",
   "execution_count": 1,
   "id": "98a26ff9",
   "metadata": {},
   "outputs": [],
   "source": [
    "import numpy as np \n",
    "import scipy\n",
    "import pandas as pd \n",
    "import sklearn\n",
    "import matplotlib.pyplot as plt\n",
    "from skimage import io\n",
    "from sklearn.model_selection import train_test_split\n",
    "from scipy.sparse import csr_matrix\n",
    "from scipy.sparse.linalg import svds\n",
    "import random\n",
    "import math\n",
    "from nltk.corpus import stopwords\n",
    "from sklearn.feature_extraction.text import TfidfVectorizer\n",
    "from sklearn.metrics.pairwise import cosine_similarity\n",
    "from sklearn.preprocessing import MinMaxScaler"
   ]
  },
  {
   "cell_type": "code",
   "execution_count": 4,
   "id": "ffdae9ee",
   "metadata": {},
   "outputs": [],
   "source": [
    "anime_df = pd.read_csv('anime.csv')\n",
    "rating_df = pd.read_csv('rating2.csv')"
   ]
  },
  {
   "cell_type": "code",
   "execution_count": 5,
   "id": "d940974c",
   "metadata": {},
   "outputs": [],
   "source": [
    "#replace -1 rating to null value\n",
    "rating_df['rating'].replace(-1, np.nan, inplace=True)"
   ]
  },
  {
   "cell_type": "code",
   "execution_count": 6,
   "id": "b6569674",
   "metadata": {},
   "outputs": [
    {
     "name": "stdout",
     "output_type": "stream",
     "text": [
      "   anime_id                              name  \\\n",
      "0     32281                    Kimi no Na wa.   \n",
      "1      5114  Fullmetal Alchemist: Brotherhood   \n",
      "2     28977                          Gintama°   \n",
      "3      9253                       Steins;Gate   \n",
      "4      9969                     Gintama&#039;   \n",
      "\n",
      "                                               genre   type episodes  rating  \\\n",
      "0               Drama, Romance, School, Supernatural  Movie        1    9.37   \n",
      "1  Action, Adventure, Drama, Fantasy, Magic, Mili...     TV       64    9.26   \n",
      "2  Action, Comedy, Historical, Parody, Samurai, S...     TV       51    9.25   \n",
      "3                                   Sci-Fi, Thriller     TV       24    9.17   \n",
      "4  Action, Comedy, Historical, Parody, Samurai, S...     TV       51    9.16   \n",
      "\n",
      "   members  \n",
      "0   200630  \n",
      "1   793665  \n",
      "2   114262  \n",
      "3   673572  \n",
      "4   151266  \n",
      "   user_id  anime_id  rating\n",
      "0        1        20     NaN\n",
      "1        1        24     NaN\n",
      "2        1        79     NaN\n",
      "3        1       226     NaN\n",
      "4        1       241     NaN\n",
      "           anime_id        rating       members\n",
      "count  12294.000000  12064.000000  1.229400e+04\n",
      "mean   14058.221653      6.473902  1.807134e+04\n",
      "std    11455.294701      1.026746  5.482068e+04\n",
      "min        1.000000      1.670000  5.000000e+00\n",
      "25%     3484.250000      5.880000  2.250000e+02\n",
      "50%    10260.500000      6.570000  1.550000e+03\n",
      "75%    24794.500000      7.180000  9.437000e+03\n",
      "max    34527.000000     10.000000  1.013917e+06\n",
      "           user_id      anime_id       rating\n",
      "count  8278.000000   8278.000000  6109.000000\n",
      "mean     43.706209  10695.651123     7.701424\n",
      "std      28.112422   8953.394077     1.916367\n",
      "min       1.000000      1.000000     1.000000\n",
      "25%      17.000000   2251.000000     7.000000\n",
      "50%      43.000000   9515.000000     8.000000\n",
      "75%      62.000000  16732.000000     9.000000\n",
      "max     100.000000  34240.000000    10.000000\n",
      "<class 'pandas.core.frame.DataFrame'>\n",
      "RangeIndex: 12294 entries, 0 to 12293\n",
      "Data columns (total 7 columns):\n",
      " #   Column    Non-Null Count  Dtype  \n",
      "---  ------    --------------  -----  \n",
      " 0   anime_id  12294 non-null  int64  \n",
      " 1   name      12294 non-null  object \n",
      " 2   genre     12232 non-null  object \n",
      " 3   type      12269 non-null  object \n",
      " 4   episodes  12294 non-null  object \n",
      " 5   rating    12064 non-null  float64\n",
      " 6   members   12294 non-null  int64  \n",
      "dtypes: float64(1), int64(2), object(4)\n",
      "memory usage: 672.5+ KB\n",
      "None\n",
      "<class 'pandas.core.frame.DataFrame'>\n",
      "RangeIndex: 8278 entries, 0 to 8277\n",
      "Data columns (total 3 columns):\n",
      " #   Column    Non-Null Count  Dtype  \n",
      "---  ------    --------------  -----  \n",
      " 0   user_id   8278 non-null   int64  \n",
      " 1   anime_id  8278 non-null   int64  \n",
      " 2   rating    6109 non-null   float64\n",
      "dtypes: float64(1), int64(2)\n",
      "memory usage: 194.1 KB\n",
      "None\n",
      "anime_id      0\n",
      "name          0\n",
      "genre        62\n",
      "type         25\n",
      "episodes      0\n",
      "rating      230\n",
      "members       0\n",
      "dtype: int64\n",
      "user_id        0\n",
      "anime_id       0\n",
      "rating      2169\n",
      "dtype: int64\n"
     ]
    }
   ],
   "source": [
    "# Display the first few rows to understand what each dataset looks like\n",
    "print(anime_df.head())\n",
    "print(rating_df.head())\n",
    "\n",
    "# Get summary statistics and info about the datasets\n",
    "print(anime_df.describe())\n",
    "print(rating_df.describe())\n",
    "\n",
    "print(anime_df.info())\n",
    "print(rating_df.info())\n",
    "\n",
    "# Check for missing values\n",
    "print(anime_df.isnull().sum())\n",
    "print(rating_df.isnull().sum())"
   ]
  },
  {
   "cell_type": "code",
   "execution_count": 7,
   "id": "1d252cce",
   "metadata": {},
   "outputs": [
    {
     "name": "stdout",
     "output_type": "stream",
     "text": [
      "   user_id  anime_id  rating_user    name  \\\n",
      "0        1        20          NaN  Naruto   \n",
      "1        3        20          8.0  Naruto   \n",
      "2        5        20          6.0  Naruto   \n",
      "3        6        20          NaN  Naruto   \n",
      "4       10        20          NaN  Naruto   \n",
      "5       21        20          8.0  Naruto   \n",
      "6       28        20          9.0  Naruto   \n",
      "7       34        20          9.0  Naruto   \n",
      "8       38        20          6.0  Naruto   \n",
      "9       39        20         10.0  Naruto   \n",
      "\n",
      "                                               genre type episodes  rating  \\\n",
      "0  Action, Comedy, Martial Arts, Shounen, Super P...   TV      220    7.81   \n",
      "1  Action, Comedy, Martial Arts, Shounen, Super P...   TV      220    7.81   \n",
      "2  Action, Comedy, Martial Arts, Shounen, Super P...   TV      220    7.81   \n",
      "3  Action, Comedy, Martial Arts, Shounen, Super P...   TV      220    7.81   \n",
      "4  Action, Comedy, Martial Arts, Shounen, Super P...   TV      220    7.81   \n",
      "5  Action, Comedy, Martial Arts, Shounen, Super P...   TV      220    7.81   \n",
      "6  Action, Comedy, Martial Arts, Shounen, Super P...   TV      220    7.81   \n",
      "7  Action, Comedy, Martial Arts, Shounen, Super P...   TV      220    7.81   \n",
      "8  Action, Comedy, Martial Arts, Shounen, Super P...   TV      220    7.81   \n",
      "9  Action, Comedy, Martial Arts, Shounen, Super P...   TV      220    7.81   \n",
      "\n",
      "   members  \n",
      "0   683297  \n",
      "1   683297  \n",
      "2   683297  \n",
      "3   683297  \n",
      "4   683297  \n",
      "5   683297  \n",
      "6   683297  \n",
      "7   683297  \n",
      "8   683297  \n",
      "9   683297  \n"
     ]
    }
   ],
   "source": [
    "# Merge rating_df and anime_df on 'anime_id', handle column name conflicts by adding specified suffixes\n",
    "anime_rating_df = rating_df.merge(anime_df, on='anime_id', how='inner', suffixes=('_user', ''))\n",
    "\n",
    "# Display the first few rows of the merged dataset to check the merge\n",
    "print(anime_rating_df.head(10))"
   ]
  },
  {
   "cell_type": "markdown",
   "id": "cb5976c3",
   "metadata": {},
   "source": [
    "# Drop Columns Not Used"
   ]
  },
  {
   "cell_type": "code",
   "execution_count": 8,
   "id": "b1fc4b57",
   "metadata": {},
   "outputs": [
    {
     "data": {
      "text/html": [
       "<div>\n",
       "<style scoped>\n",
       "    .dataframe tbody tr th:only-of-type {\n",
       "        vertical-align: middle;\n",
       "    }\n",
       "\n",
       "    .dataframe tbody tr th {\n",
       "        vertical-align: top;\n",
       "    }\n",
       "\n",
       "    .dataframe thead th {\n",
       "        text-align: right;\n",
       "    }\n",
       "</style>\n",
       "<table border=\"1\" class=\"dataframe\">\n",
       "  <thead>\n",
       "    <tr style=\"text-align: right;\">\n",
       "      <th></th>\n",
       "      <th>user_id</th>\n",
       "      <th>anime_id</th>\n",
       "      <th>rating_user</th>\n",
       "      <th>name</th>\n",
       "    </tr>\n",
       "  </thead>\n",
       "  <tbody>\n",
       "    <tr>\n",
       "      <th>0</th>\n",
       "      <td>1</td>\n",
       "      <td>20</td>\n",
       "      <td>NaN</td>\n",
       "      <td>Naruto</td>\n",
       "    </tr>\n",
       "    <tr>\n",
       "      <th>1</th>\n",
       "      <td>3</td>\n",
       "      <td>20</td>\n",
       "      <td>8.0</td>\n",
       "      <td>Naruto</td>\n",
       "    </tr>\n",
       "    <tr>\n",
       "      <th>2</th>\n",
       "      <td>5</td>\n",
       "      <td>20</td>\n",
       "      <td>6.0</td>\n",
       "      <td>Naruto</td>\n",
       "    </tr>\n",
       "    <tr>\n",
       "      <th>3</th>\n",
       "      <td>6</td>\n",
       "      <td>20</td>\n",
       "      <td>NaN</td>\n",
       "      <td>Naruto</td>\n",
       "    </tr>\n",
       "    <tr>\n",
       "      <th>4</th>\n",
       "      <td>10</td>\n",
       "      <td>20</td>\n",
       "      <td>NaN</td>\n",
       "      <td>Naruto</td>\n",
       "    </tr>\n",
       "    <tr>\n",
       "      <th>5</th>\n",
       "      <td>21</td>\n",
       "      <td>20</td>\n",
       "      <td>8.0</td>\n",
       "      <td>Naruto</td>\n",
       "    </tr>\n",
       "    <tr>\n",
       "      <th>6</th>\n",
       "      <td>28</td>\n",
       "      <td>20</td>\n",
       "      <td>9.0</td>\n",
       "      <td>Naruto</td>\n",
       "    </tr>\n",
       "    <tr>\n",
       "      <th>7</th>\n",
       "      <td>34</td>\n",
       "      <td>20</td>\n",
       "      <td>9.0</td>\n",
       "      <td>Naruto</td>\n",
       "    </tr>\n",
       "    <tr>\n",
       "      <th>8</th>\n",
       "      <td>38</td>\n",
       "      <td>20</td>\n",
       "      <td>6.0</td>\n",
       "      <td>Naruto</td>\n",
       "    </tr>\n",
       "    <tr>\n",
       "      <th>9</th>\n",
       "      <td>39</td>\n",
       "      <td>20</td>\n",
       "      <td>10.0</td>\n",
       "      <td>Naruto</td>\n",
       "    </tr>\n",
       "  </tbody>\n",
       "</table>\n",
       "</div>"
      ],
      "text/plain": [
       "   user_id  anime_id  rating_user    name\n",
       "0        1        20          NaN  Naruto\n",
       "1        3        20          8.0  Naruto\n",
       "2        5        20          6.0  Naruto\n",
       "3        6        20          NaN  Naruto\n",
       "4       10        20          NaN  Naruto\n",
       "5       21        20          8.0  Naruto\n",
       "6       28        20          9.0  Naruto\n",
       "7       34        20          9.0  Naruto\n",
       "8       38        20          6.0  Naruto\n",
       "9       39        20         10.0  Naruto"
      ]
     },
     "execution_count": 8,
     "metadata": {},
     "output_type": "execute_result"
    }
   ],
   "source": [
    "anime_rating_df.drop(columns=['genre', 'type', 'episodes','rating','members'], inplace=True)\n",
    "anime_rating_df.head(10)"
   ]
  },
  {
   "cell_type": "code",
   "execution_count": 9,
   "id": "0bf0b954",
   "metadata": {},
   "outputs": [
    {
     "data": {
      "text/plain": [
       "user_id           0\n",
       "anime_id          0\n",
       "rating_user    2169\n",
       "name              0\n",
       "dtype: int64"
      ]
     },
     "execution_count": 9,
     "metadata": {},
     "output_type": "execute_result"
    }
   ],
   "source": [
    "#check missing value for the merged df\n",
    "anime_rating_df.isnull().sum()"
   ]
  },
  {
   "cell_type": "code",
   "execution_count": 10,
   "id": "9a578da8",
   "metadata": {},
   "outputs": [
    {
     "data": {
      "text/plain": [
       "(6109, 4)"
      ]
     },
     "execution_count": 10,
     "metadata": {},
     "output_type": "execute_result"
    }
   ],
   "source": [
    "#drop all the null value\n",
    "anime_rating_df.dropna(inplace=True)\n",
    "anime_rating_df.shape"
   ]
  },
  {
   "cell_type": "markdown",
   "id": "14450e86",
   "metadata": {},
   "source": [
    "# Data Pre-processing"
   ]
  },
  {
   "cell_type": "markdown",
   "id": "ae42e2bd",
   "metadata": {},
   "source": [
    "# 1) Keep only data with more than 10 Interactions"
   ]
  },
  {
   "cell_type": "code",
   "execution_count": 11,
   "id": "50dc8f2c",
   "metadata": {},
   "outputs": [
    {
     "name": "stdout",
     "output_type": "stream",
     "text": [
      "# users: 94\n",
      "# users with at least 10 interactions: 67\n"
     ]
    }
   ],
   "source": [
    "users_interactions_count_df = anime_rating_df.groupby(['user_id', 'anime_id']).size().groupby('user_id').size()\n",
    "print('# users: %d' % len(users_interactions_count_df))\n",
    "users_with_enough_interactions_df = users_interactions_count_df[users_interactions_count_df >= 10].reset_index()[['user_id']]\n",
    "print('# users with at least 10 interactions: %d' % len(users_with_enough_interactions_df))"
   ]
  },
  {
   "cell_type": "code",
   "execution_count": 12,
   "id": "87a6e9af",
   "metadata": {},
   "outputs": [
    {
     "name": "stdout",
     "output_type": "stream",
     "text": [
      "# of interactions: 6109\n",
      "# of interactions from users with at least 10 interactions: 6005\n"
     ]
    }
   ],
   "source": [
    "print('# of interactions: %d' % len(anime_rating_df))\n",
    "interactions_from_selected_users_df = anime_rating_df.merge(users_with_enough_interactions_df, \n",
    "               how = 'right',\n",
    "               left_on = 'user_id',\n",
    "               right_on = 'user_id')\n",
    "print('# of interactions from users with at least 10 interactions: %d' % len(interactions_from_selected_users_df))"
   ]
  },
  {
   "cell_type": "markdown",
   "id": "5e27be94",
   "metadata": {},
   "source": [
    "# 2) Duplicate Checks"
   ]
  },
  {
   "cell_type": "code",
   "execution_count": 13,
   "id": "168c8a47",
   "metadata": {},
   "outputs": [
    {
     "name": "stdout",
     "output_type": "stream",
     "text": [
      "Number of duplicated ratings done on an anime by the same user: 0\n"
     ]
    }
   ],
   "source": [
    "# count number of reviews done by a user on a anime for multiple times\n",
    "rating_by_users_anime = interactions_from_selected_users_df.groupby(['user_id', 'anime_id'])[\"rating_user\"].count().reset_index()\n",
    "print(f'Number of duplicated ratings done on an anime by the same user: {rating_by_users_anime[rating_by_users_anime[\"rating_user\"]>1][\"rating_user\"].count()}')"
   ]
  },
  {
   "cell_type": "markdown",
   "id": "a78acb24",
   "metadata": {},
   "source": [
    "# Split Data Set 80% Training 20% Test"
   ]
  },
  {
   "cell_type": "code",
   "execution_count": 18,
   "id": "fb115011",
   "metadata": {},
   "outputs": [
    {
     "name": "stdout",
     "output_type": "stream",
     "text": [
      "# No of Ratings on Train set: 5192\n",
      "# No of Ratings on Test set: 917\n"
     ]
    }
   ],
   "source": [
    "from sklearn.model_selection import train_test_split\n",
    "anime_rating_train_df, anime_rating_test_df = train_test_split(\n",
    "    anime_rating_df, test_size=0.15, random_state=42\n",
    ")\n",
    "\n",
    "print('# No of Ratings on Train set:', len(anime_rating_train_df))\n",
    "print('# No of Ratings on Test set:', len(anime_rating_test_df))"
   ]
  },
  {
   "cell_type": "code",
   "execution_count": 19,
   "id": "db8470ff",
   "metadata": {},
   "outputs": [],
   "source": [
    "#Indexing by user_id to speed up the searches during evaluation\n",
    "anime_rating_train_indexed_df = anime_rating_train_df.set_index('user_id')\n",
    "anime_rating_train_df_indexed_df = anime_rating_train_df.set_index('user_id')\n",
    "anime_rating_test_df_indexed_df = anime_rating_test_df.set_index('user_id')"
   ]
  },
  {
   "cell_type": "code",
   "execution_count": 20,
   "id": "1cc007ea",
   "metadata": {},
   "outputs": [],
   "source": [
    "def get_items_rated(user_id, ratings_df):\n",
    "    # Get the user's data and merge in the anime information.\n",
    "    rated_items = ratings_df.loc[user_id]['anime_id']\n",
    "    return set(rated_items if type(rated_items) == pd.Series else [rated_items])"
   ]
  },
  {
   "cell_type": "code",
   "execution_count": 21,
   "id": "1f8787a1",
   "metadata": {},
   "outputs": [],
   "source": [
    "class ModelEvaluator:\n",
    "    EVAL_RANDOM_SAMPLE_NON_INTERACTED_ITEMS = 100\n",
    "\n",
    "    def get_not_rated_items_sample(self, user_id, sample_size, seed=42):\n",
    "        rated_items = get_items_rated(user_id, ratings_full_indexed_df)\n",
    "        all_items = set(anime_df['anime_id'])  # Assume anime_df contains all anime IDs\n",
    "        non_rated_items = all_items - rated_items\n",
    "\n",
    "        random.seed(seed)\n",
    "        non_rated_items_sample = random.sample(non_rated_items, sample_size)\n",
    "        return set(non_rated_items_sample)\n",
    "\n",
    "    def _verify_hit_top_n(self, item_id, recommended_items, topn):\n",
    "        index = next((i for i, c in enumerate(recommended_items) if c == item_id), -1)\n",
    "        return int(index < topn), index\n",
    "    \n",
    "    def _count_hit_at_top_n(self, rated_items, recommended_items, topn):\n",
    "        topn_items = set(recommended_items[:topn])\n",
    "        return len(topn_items & rated_items)\n",
    "\n",
    "    def _average_precision_top_n(self, rated_items, recommended_items, topn):\n",
    "        precision = sum(len(set(recommended_items[:n]) & rated_items) / n for n in range(1, topn + 1))\n",
    "        return precision / topn\n",
    "\n",
    "    def evaluate_model_for_user(self, model, user_id):\n",
    "        rated_values_testset = ratings_test_indexed_df.loc[user_id]\n",
    "        person_rated_items_testset = set(rated_values_testset['anime_id']) if type(rated_values_testset['anime_id']) == pd.Series else {rated_values_testset['anime_id']}\n",
    "        rated_items_count_testset = len(person_rated_items_testset) \n",
    "        person_recs_df = model.recommend_items(user_id, items_to_ignore=get_items_rated(user_id, ratings_train_indexed_df), topn=10000000000)\n",
    "        \n",
    "        person_recs_ids = person_recs_df['anime_id'].tolist()\n",
    "        p_hits_at_5_count = self._count_hit_at_top_n(person_rated_items_testset, person_recs_ids, 5)\n",
    "        p_hits_at_10_count = self._count_hit_at_top_n(person_rated_items_testset, person_recs_ids, 10)\n",
    "\n",
    "        hits_at_5_count = hits_at_10_count = 0\n",
    "        for item_id in person_rated_items_testset:\n",
    "            non_rated_items_sample = self.get_not_rated_items_sample(user_id, self.EVAL_RANDOM_SAMPLE_NON_INTERACTED_ITEMS, item_id % (2**32))\n",
    "            valid_recs = person_recs_df[person_recs_df['anime_id'].isin(non_rated_items_sample.union({item_id}))]['anime_id'].values\n",
    "            hit_at_5, _ = self._verify_hit_top_n(item_id, valid_recs, 5)\n",
    "            hit_at_10, _ = self._verify_hit_top_n(item_id, valid_recs, 10)\n",
    "            hits_at_5_count += hit_at_5\n",
    "            hits_at_10_count += hit_at_10\n",
    "\n",
    "        person_metrics = {\n",
    "            'hits@5_count': hits_at_5_count, \n",
    "            'hits@10_count': hits_at_10_count,\n",
    "            'rated_count': rated_items_count_testset,\n",
    "            'recall@5': hits_at_5_count / float(rated_items_count_testset),\n",
    "            'recall@10': hits_at_10_count / float(rated_items_count_testset),\n",
    "            'p_hits@5_count': p_hits_at_5_count,\n",
    "            'p_hits@10_count': p_hits_at_10_count,\n",
    "            'precision@5': p_hits_at_5_count / 5.0,\n",
    "            'precision@10': p_hits_at_10_count / 10.0,\n",
    "            'average_p@5': self._average_precision_top_n(person_rated_items_testset, person_recs_ids, 5),\n",
    "            'average_p@10': self._average_precision_top_n(person_rated_items_testset, person_recs_ids, 10)\n",
    "        }\n",
    "        \n",
    "        return person_metrics\n",
    "\n",
    "    def evaluate_model(self, model):\n",
    "        people_metrics = []\n",
    "        probs = []\n",
    "        for idx, user_id in enumerate(ratings_test_indexed_df.index.unique()):\n",
    "            person_metrics, prob = self.evaluate_model_for_user(model, user_id)\n",
    "            person_metrics['_user_id'] = user_id\n",
    "            people_metrics.append(person_metrics)\n",
    "            probs += prob\n",
    "\n",
    "        detailed_results_df = pd.DataFrame(people_metrics).sort_values('rated_count', ascending=False)\n",
    "        i = len(people_metrics)\n",
    "        global_metrics = {\n",
    "            'modelName': model.get_model_name(),\n",
    "            'recall@5': detailed_results_df['hits@5_count'].sum() / detailed_results_df['rated_count'].sum(),\n",
    "            'recall@10': detailed_results_df['hits@10_count'].sum() / detailed_results_df['rated_count'].sum(),\n",
    "            'precision@5': detailed_results_df['p_hits@5_count'].sum() / (5 * i),\n",
    "            'precision@10': detailed_results_df['p_hits@10_count'].sum() / (10 * i),\n",
    "            'map@5': detailed_results_df['average_p@5'].mean(),\n",
    "            'map@10': detailed_results_df['average_p@10'].mean()\n",
    "        }\n",
    "\n",
    "        probs_df = pd.DataFrame(probs)\n",
    "        return global_metrics, detailed_results_df, probs_df\n",
    "\n",
    "model_evaluator = ModelEvaluator()\n"
   ]
  },
  {
   "cell_type": "code",
   "execution_count": null,
   "id": "11e44e0c",
   "metadata": {},
   "outputs": [],
   "source": []
  }
 ],
 "metadata": {
  "kernelspec": {
   "display_name": "Python 3 (ipykernel)",
   "language": "python",
   "name": "python3"
  },
  "language_info": {
   "codemirror_mode": {
    "name": "ipython",
    "version": 3
   },
   "file_extension": ".py",
   "mimetype": "text/x-python",
   "name": "python",
   "nbconvert_exporter": "python",
   "pygments_lexer": "ipython3",
   "version": "3.10.9"
  }
 },
 "nbformat": 4,
 "nbformat_minor": 5
}
